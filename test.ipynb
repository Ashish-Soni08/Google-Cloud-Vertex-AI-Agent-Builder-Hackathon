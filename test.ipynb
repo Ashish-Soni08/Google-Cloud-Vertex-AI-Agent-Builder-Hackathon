{
 "cells": [
  {
   "cell_type": "markdown",
   "metadata": {},
   "source": [
    "# Imports"
   ]
  },
  {
   "cell_type": "code",
   "execution_count": 1,
   "metadata": {},
   "outputs": [],
   "source": [
    "import fitz\n",
    "from typing import List"
   ]
  },
  {
   "cell_type": "markdown",
   "metadata": {},
   "source": [
    "# Data Preparation"
   ]
  },
  {
   "cell_type": "code",
   "execution_count": 5,
   "metadata": {},
   "outputs": [],
   "source": [
    "def partition_pdf(start_page: int, end_page: int, new_pdf_name: str, pdf_path: str = \"data/raw/book.pdf\") -> None:\n",
    "    \"\"\"\n",
    "    Partitions a PDF by selecting specific pages and saves the result to a new PDF file.\n",
    "\n",
    "    Parameters:\n",
    "        start_page (int): The starting page number of the range to select.\n",
    "        end_page (int): The ending page number of the range to select.\n",
    "        new_pdf_name (str): The file path where the new PDF will be saved.\n",
    "        pdf_path (str, optional): The file path of the original PDF. Defaults to \"data/raw/book.pdf\".\n",
    "\n",
    "    Returns:\n",
    "        None\n",
    "    \"\"\"\n",
    "    # Open the original PDF file\n",
    "    doc = fitz.open(pdf_path)\n",
    "    \n",
    "    page_numbers = list(range(start_page, end_page + 1))\n",
    "    \n",
    "    # Select the specified pages\n",
    "    doc.select(page_numbers)\n",
    "    \n",
    "    # Save the new PDF with only the selected pages\n",
    "    doc.save(new_pdf_name)\n",
    "    doc.close()\n"
   ]
  },
  {
   "cell_type": "code",
   "execution_count": 25,
   "metadata": {},
   "outputs": [],
   "source": [
    "partition_pdf(9, 13, \"data/processed/00_introduction.pdf\")"
   ]
  },
  {
   "cell_type": "code",
   "execution_count": 11,
   "metadata": {},
   "outputs": [],
   "source": [
    "partition_pdf(15, 50, \"data/processed/01_deny_trauma.pdf\")"
   ]
  },
  {
   "cell_type": "code",
   "execution_count": 13,
   "metadata": {},
   "outputs": [],
   "source": [
    "partition_pdf(52, 106, \"data/processed/02_all_problems_are_interpersonal_relationship_problems.pdf\")"
   ]
  },
  {
   "cell_type": "code",
   "execution_count": 15,
   "metadata": {},
   "outputs": [],
   "source": [
    "partition_pdf(108, 147, \"data/processed/03_discard_other_peoples_tasks.pdf\")"
   ]
  },
  {
   "cell_type": "code",
   "execution_count": 19,
   "metadata": {},
   "outputs": [],
   "source": [
    "partition_pdf(149, 192, \"data/processed/04_where_the_centre_of_the_world_is.pdf\")"
   ]
  },
  {
   "cell_type": "code",
   "execution_count": 21,
   "metadata": {},
   "outputs": [],
   "source": [
    "partition_pdf(194, 251, \"data/processed/05_to_live_in_earnest_in_the_here_and_now.pdf\")"
   ]
  },
  {
   "cell_type": "code",
   "execution_count": 23,
   "metadata": {},
   "outputs": [],
   "source": [
    "partition_pdf(252, 256, \"data/processed/06_afterword.pdf\")"
   ]
  }
 ],
 "metadata": {
  "kernelspec": {
   "display_name": ".wellness-ai-agent",
   "language": "python",
   "name": "python3"
  },
  "language_info": {
   "codemirror_mode": {
    "name": "ipython",
    "version": 3
   },
   "file_extension": ".py",
   "mimetype": "text/x-python",
   "name": "python",
   "nbconvert_exporter": "python",
   "pygments_lexer": "ipython3",
   "version": "3.10.13"
  }
 },
 "nbformat": 4,
 "nbformat_minor": 2
}
