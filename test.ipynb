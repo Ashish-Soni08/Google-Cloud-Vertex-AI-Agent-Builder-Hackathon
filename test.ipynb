{
 "cells": [
  {
   "cell_type": "markdown",
   "metadata": {},
   "source": [
    "# Imports"
   ]
  },
  {
   "cell_type": "code",
   "execution_count": 1,
   "metadata": {},
   "outputs": [],
   "source": [
    "import fitz\n",
    "from typing import List"
   ]
  },
  {
   "cell_type": "markdown",
   "metadata": {},
   "source": [
    "# Data Preparation"
   ]
  },
  {
   "cell_type": "markdown",
   "metadata": {},
   "source": [
    "SPLIT THE BOOK INTO DIFFERENT PDFS BASED ON SECTIONS"
   ]
  },
  {
   "cell_type": "code",
   "execution_count": 5,
   "metadata": {},
   "outputs": [],
   "source": [
    "def partition_pdf(start_page: int, end_page: int, new_pdf_name: str, pdf_path: str = \"data/raw/book.pdf\") -> None:\n",
    "    \"\"\"\n",
    "    Partitions a PDF by selecting specific pages and saves the result to a new PDF file.\n",
    "\n",
    "    Parameters:\n",
    "        start_page (int): The starting page number of the range to select.\n",
    "        end_page (int): The ending page number of the range to select.\n",
    "        new_pdf_name (str): The file path where the new PDF will be saved.\n",
    "        pdf_path (str, optional): The file path of the original PDF. Defaults to \"data/raw/book.pdf\".\n",
    "\n",
    "    Returns:\n",
    "        None\n",
    "    \"\"\"\n",
    "    # Open the original PDF file\n",
    "    doc = fitz.open(pdf_path)\n",
    "    \n",
    "    page_numbers = list(range(start_page, end_page + 1))\n",
    "    \n",
    "    # Select the specified pages\n",
    "    doc.select(page_numbers)\n",
    "    \n",
    "    # Save the new PDF with only the selected pages\n",
    "    doc.save(new_pdf_name)\n",
    "    doc.close()\n"
   ]
  },
  {
   "cell_type": "code",
   "execution_count": 25,
   "metadata": {},
   "outputs": [],
   "source": [
    "partition_pdf(9, 13, \"data/processed/00_introduction.pdf\")"
   ]
  },
  {
   "cell_type": "code",
   "execution_count": 11,
   "metadata": {},
   "outputs": [],
   "source": [
    "partition_pdf(15, 50, \"data/processed/01_deny_trauma.pdf\")"
   ]
  },
  {
   "cell_type": "code",
   "execution_count": 13,
   "metadata": {},
   "outputs": [],
   "source": [
    "partition_pdf(52, 106, \"data/processed/02_all_problems_are_interpersonal_relationship_problems.pdf\")"
   ]
  },
  {
   "cell_type": "code",
   "execution_count": 15,
   "metadata": {},
   "outputs": [],
   "source": [
    "partition_pdf(108, 147, \"data/processed/03_discard_other_peoples_tasks.pdf\")"
   ]
  },
  {
   "cell_type": "code",
   "execution_count": 19,
   "metadata": {},
   "outputs": [],
   "source": [
    "partition_pdf(149, 192, \"data/processed/04_where_the_centre_of_the_world_is.pdf\")"
   ]
  },
  {
   "cell_type": "code",
   "execution_count": 21,
   "metadata": {},
   "outputs": [],
   "source": [
    "partition_pdf(194, 251, \"data/processed/05_to_live_in_earnest_in_the_here_and_now.pdf\")"
   ]
  },
  {
   "cell_type": "code",
   "execution_count": 23,
   "metadata": {},
   "outputs": [],
   "source": [
    "partition_pdf(252, 256, \"data/processed/06_afterword.pdf\")"
   ]
  },
  {
   "cell_type": "markdown",
   "metadata": {},
   "source": [
    "Convert text in PDFs to MARKDOWN TEXT FORMAT USING LLAMAINDEX"
   ]
  },
  {
   "cell_type": "code",
   "execution_count": 1,
   "metadata": {},
   "outputs": [],
   "source": [
    "from dotenv import dotenv_values\n",
    "config = dotenv_values(\".env\")"
   ]
  },
  {
   "cell_type": "code",
   "execution_count": 5,
   "metadata": {},
   "outputs": [],
   "source": [
    "from llama_parse import LlamaParse\n",
    "from llama_index.core import SimpleDirectoryReader\n"
   ]
  },
  {
   "cell_type": "code",
   "execution_count": 12,
   "metadata": {},
   "outputs": [],
   "source": [
    "import nest_asyncio\n",
    "\n",
    "nest_asyncio.apply()"
   ]
  },
  {
   "cell_type": "code",
   "execution_count": 3,
   "metadata": {},
   "outputs": [],
   "source": [
    "LLAMAPARSE_API_KEY = config[\"LLAMAPARSE_API\"]"
   ]
  },
  {
   "cell_type": "code",
   "execution_count": 13,
   "metadata": {},
   "outputs": [],
   "source": [
    "parser = parser = LlamaParse(\n",
    "    api_key=LLAMAPARSE_API_KEY,  # can also be set in your env as LLAMA_CLOUD_API_KEY\n",
    "    result_type=\"markdown\",  # \"markdown\" and \"text\" are available\n",
    "    num_workers=7,  # if multiple files passed, split in `num_workers` API calls\n",
    "    verbose=True,\n",
    "    language=\"en\",  # Optionally you can define a language, default=en\n",
    ")"
   ]
  },
  {
   "cell_type": "code",
   "execution_count": 14,
   "metadata": {},
   "outputs": [],
   "source": [
    "file_extractor = {\".pdf\": parser}"
   ]
  },
  {
   "cell_type": "code",
   "execution_count": 15,
   "metadata": {},
   "outputs": [
    {
     "name": "stdout",
     "output_type": "stream",
     "text": [
      "Started parsing the file under job_id 1769478c-64d9-40b5-b175-7abb32dd9d77\n",
      "Started parsing the file under job_id cea845e6-d989-4618-81e0-14396e5bdddf\n",
      "Started parsing the file under job_id f5c35fd6-d1b3-4310-8e50-934f8aaa58bd\n",
      "Started parsing the file under job_id 51fb5db8-013e-4529-b609-6f4675e3c56e\n",
      "Started parsing the file under job_id 9c672155-b9cd-4aa1-96ce-c369d87607a6\n",
      "Started parsing the file under job_id f4356c0b-e516-43f5-adf1-fd79ced8f3f0\n",
      "Started parsing the file under job_id 7a68a134-9478-498a-9061-5833ec35038d\n"
     ]
    }
   ],
   "source": [
    "documents = SimpleDirectoryReader(input_dir=\"data/processed\",\n",
    "                                   file_extractor=file_extractor,\n",
    "                                   required_exts=[\".pdf\"],\n",
    "                                   recursive=True,\n",
    "                                   filename_as_id=True\n",
    "                                   ).load_data()"
   ]
  },
  {
   "cell_type": "code",
   "execution_count": 16,
   "metadata": {},
   "outputs": [
    {
     "data": {
      "text/plain": [
       "7"
      ]
     },
     "execution_count": 16,
     "metadata": {},
     "output_type": "execute_result"
    }
   ],
   "source": [
    "len(documents)"
   ]
  },
  {
   "cell_type": "code",
   "execution_count": 18,
   "metadata": {},
   "outputs": [
    {
     "data": {
      "text/plain": [
       "'# Introduction\\n\\nYOUTH: I want to ask you once again; you do believe that the world is, in all ways, a simple place?\\n\\nPHILOSOPHER: Yes, this world is astonishingly simple and life itself is, too.\\n\\nYOUTH: So, is this your idealistic argument or is it a workable theory? What I mean is, are you saying that any issues you or I face in life are simple too?\\n\\nPHILOSOPHER: Yes, of course.\\n\\nYOUTH: Alright then, but let me explain why I have come to visit you today. Firstly, I want to debate this with you until I am satisfied, and then, if possible, I want to get you to retract this theory.\\n\\nPHILOSOPHER: Ha-ha.\\n\\nYOUTH: Because I have heard all about your reputation. The word is that there is an eccentric philosopher living here whose teachings and arguments are hard to ignore, namely, that people can change, that the world is simple and that everyone can be happy. That is the sort of thing I have heard, but I find that view totally unacceptable, so I wanted to confirm things for myself. If I find anything you say completely off, I will point it out and then correct you . . . But will you find that annoying?\\n\\nPHILOSOPHER: No, I would welcome the opportunity. I have been hoping to hear from a young person just like you and to learn as much as possible from what you can tell me.\\n---\\nYOUTH: Thanks. I do not intend to dismiss you out of hand. I will take your views into consideration and then look at the possibilities that present themselves. ‘The world is simple and life is simple, too’—if there is anything in this thesis that might contain truth, it would be life from a child’s point of view. Children do not have any obvious duties, like paying taxes or going to work. They are protected by their parents and society, and can spend days free from care. They can imagine a future that goes on forever and do whatever they want. They don’t have to see grim reality—they are blindfolded. So, to them the world must have a simple form. However, as a child matures to adulthood the world reveals its true nature. Very shortly, the child will know how things really are and what he is really allowed to do. His opinion will alter and all he will see is impossibility. His romantic view will end and be replaced by cruel realism.\\n\\nPHILOSOPHER: I see. That is an interesting view.\\n\\nYOUTH: That’s not all. Once grown up, the child will get entangled in all kinds of complicated relationships with people and have all kinds of responsibilities thrust upon him. That is how life will be, both at work and at home, and in any role he assumes in public life. It goes without saying that he will become aware of the various issues in society that he couldn’t understand as a child, including discrimination, war, and inequality, and he will not be able to ignore them. Am I wrong?\\n\\nPHILOSOPHER: It sounds fine to me. Please continue.\\n\\nYOUTH: Well, if we were still living at a time when religion held sway, salvation might be an option because the teachings of the divine were everything to us. All we had to do was obey them and consequently have little to think about. But religion has lost its power and now there is no real belief in God. With nothing to rely on, everyone is filled with anxiety and doubt. Everyone is living for themselves. That is how society is today, so please tell me—given these realities and in the light of what I have said—can you still say the world is simple?\\n---\\nPHILOSOPHER: There is no change in what I say. The world is simple and life is simple, too.\\n\\nYOUTH: How? Anyone can see that it’s a chaotic mass of contradictions.\\n\\nPHILOSOPHER: That is not because the world is complicated. It’s because you are making the world complicated.\\n\\nYOUTH: I am?\\n\\nPHILOSOPHER: None of us live in an objective world, but instead in a subjective world that we ourselves have given meaning to. The world you see is different from the one I see, and it’s impossible to share your world with anyone else.\\n\\nYOUTH: How can that be? You and I are living in the same country, in the same time, and we are seeing the same things—aren’t we?\\n\\nPHILOSOPHER: You look rather young to me, but have you ever drunk well water that has just been drawn?\\n\\nYOUTH: Well water? Um, it was a long time ago, but there was a well at my grandmother’s house in the countryside. I remember enjoying the fresh, cold water drawn from that well on a hot summer’s day.\\n\\nPHILOSOPHER: You may know this, but well water stays at pretty much the same temperature all year round, at about sixty degrees. That is an objective number—it stays the same to everyone who measures it. But when you drink the water in the summer it seems cool and when you drink the same water in the winter it seems warm. Even though it’s the same water, at the same sixty degrees according to the thermometer, the way it seems depends on whether it’s summer or winter.\\n\\nYOUTH: So, it’s an illusion caused by the change in the environment.\\n\\nPHILOSOPHER: No, it’s not an illusion. You see, to you, in that moment, the coolness or warmth of the well water is an undeniable fact. That’s what it means\\n---\\nto live in your subjective world. There is no escape from your own subjectivity. At present, the world seems complicated and mysterious to you, but if you change, the world will appear more simple. The issue is not about how the world is, but about how you are.\\n\\nYOUTH: How I am?\\n\\nPHILOSOPHER: Right . . . It’s as if you see the world through dark glasses, so naturally everything seems dark. But if that is the case, instead of lamenting about the world’s darkness, you could just remove the glasses. Perhaps the world will appear terribly bright to you then and you will involuntarily shut your eyes. Maybe you’ll want the glasses back on, but can you even take them off in the first place? Can you look directly at the world? Do you have the courage?\\n\\nYOUTH: Courage?\\n\\nPHILOSOPHER: Yes, it’s a matter of courage.\\n\\nYOUTH: Well, alright. There are tons of objections I would like to raise, but I get the feeling it would be better to go into them later. I would like to confirm that you are saying ‘people can change’, right?\\n\\nPHILOSOPHER: Of course people can change. They can also find happiness.\\n\\nYOUTH: Everyone, without exception?\\n\\nPHILOSOPHER: No exceptions whatsoever.\\n\\nYOUTH: Ha-ha! Now you’re talking big! This is getting interesting. I’m going to start arguing with you immediately.\\n\\nPHILOSOPHER: I am not going to run away or hide anything. Let’s take our time debating this. So, your position is ‘people cannot change?’\\n---\\nYOUTH: That’s right, they can’t change. Actually, I am suffering myself because of not being able to change.\\n\\nPHILOSOPHER: And at the same time, you wish you could.\\n\\nYOUTH: Of course. If I could change, if I could start life all over again, I would gladly fall to my knees before you. But it could turn out that you’ll be down on your knees before me.\\n\\nPHILOSOPHER: You remind me of myself during my own student days, when I was a hot-blooded young man searching for the truth, traipsing about, calling on philosophers . . .\\n\\nYOUTH: Yes. I am searching for the truth. The truth about life.\\n\\nPHILOSOPHER: I have never felt the need to take in disciples and have never done so. However, since becoming a student of Greek philosophy and then coming into contact with another philosophy, I have been waiting for a long time for a visit from a young person like you.\\n\\nYOUTH: Another philosophy? What would that be?\\n\\nPHILOSOPHER: My study is just over there. Go into it. It’s going to be a long night. I will go and make some hot coffee.'"
      ]
     },
     "execution_count": 18,
     "metadata": {},
     "output_type": "execute_result"
    }
   ],
   "source": [
    "documents[0].text"
   ]
  },
  {
   "cell_type": "code",
   "execution_count": 21,
   "metadata": {},
   "outputs": [],
   "source": [
    "import pathlib\n",
    "import textwrap\n",
    "\n",
    "from IPython.display import display\n",
    "from IPython.display import Markdown"
   ]
  },
  {
   "cell_type": "code",
   "execution_count": 22,
   "metadata": {},
   "outputs": [],
   "source": [
    "def to_markdown(text):\n",
    "  text = text.replace('•', '  *')\n",
    "  return Markdown(textwrap.indent(text, '> ', predicate=lambda _: True))"
   ]
  },
  {
   "cell_type": "code",
   "execution_count": 23,
   "metadata": {},
   "outputs": [
    {
     "data": {
      "text/markdown": [
       "> # Introduction\n",
       "> \n",
       "> YOUTH: I want to ask you once again; you do believe that the world is, in all ways, a simple place?\n",
       "> \n",
       "> PHILOSOPHER: Yes, this world is astonishingly simple and life itself is, too.\n",
       "> \n",
       "> YOUTH: So, is this your idealistic argument or is it a workable theory? What I mean is, are you saying that any issues you or I face in life are simple too?\n",
       "> \n",
       "> PHILOSOPHER: Yes, of course.\n",
       "> \n",
       "> YOUTH: Alright then, but let me explain why I have come to visit you today. Firstly, I want to debate this with you until I am satisfied, and then, if possible, I want to get you to retract this theory.\n",
       "> \n",
       "> PHILOSOPHER: Ha-ha.\n",
       "> \n",
       "> YOUTH: Because I have heard all about your reputation. The word is that there is an eccentric philosopher living here whose teachings and arguments are hard to ignore, namely, that people can change, that the world is simple and that everyone can be happy. That is the sort of thing I have heard, but I find that view totally unacceptable, so I wanted to confirm things for myself. If I find anything you say completely off, I will point it out and then correct you . . . But will you find that annoying?\n",
       "> \n",
       "> PHILOSOPHER: No, I would welcome the opportunity. I have been hoping to hear from a young person just like you and to learn as much as possible from what you can tell me.\n",
       "> ---\n",
       "> YOUTH: Thanks. I do not intend to dismiss you out of hand. I will take your views into consideration and then look at the possibilities that present themselves. ‘The world is simple and life is simple, too’—if there is anything in this thesis that might contain truth, it would be life from a child’s point of view. Children do not have any obvious duties, like paying taxes or going to work. They are protected by their parents and society, and can spend days free from care. They can imagine a future that goes on forever and do whatever they want. They don’t have to see grim reality—they are blindfolded. So, to them the world must have a simple form. However, as a child matures to adulthood the world reveals its true nature. Very shortly, the child will know how things really are and what he is really allowed to do. His opinion will alter and all he will see is impossibility. His romantic view will end and be replaced by cruel realism.\n",
       "> \n",
       "> PHILOSOPHER: I see. That is an interesting view.\n",
       "> \n",
       "> YOUTH: That’s not all. Once grown up, the child will get entangled in all kinds of complicated relationships with people and have all kinds of responsibilities thrust upon him. That is how life will be, both at work and at home, and in any role he assumes in public life. It goes without saying that he will become aware of the various issues in society that he couldn’t understand as a child, including discrimination, war, and inequality, and he will not be able to ignore them. Am I wrong?\n",
       "> \n",
       "> PHILOSOPHER: It sounds fine to me. Please continue.\n",
       "> \n",
       "> YOUTH: Well, if we were still living at a time when religion held sway, salvation might be an option because the teachings of the divine were everything to us. All we had to do was obey them and consequently have little to think about. But religion has lost its power and now there is no real belief in God. With nothing to rely on, everyone is filled with anxiety and doubt. Everyone is living for themselves. That is how society is today, so please tell me—given these realities and in the light of what I have said—can you still say the world is simple?\n",
       "> ---\n",
       "> PHILOSOPHER: There is no change in what I say. The world is simple and life is simple, too.\n",
       "> \n",
       "> YOUTH: How? Anyone can see that it’s a chaotic mass of contradictions.\n",
       "> \n",
       "> PHILOSOPHER: That is not because the world is complicated. It’s because you are making the world complicated.\n",
       "> \n",
       "> YOUTH: I am?\n",
       "> \n",
       "> PHILOSOPHER: None of us live in an objective world, but instead in a subjective world that we ourselves have given meaning to. The world you see is different from the one I see, and it’s impossible to share your world with anyone else.\n",
       "> \n",
       "> YOUTH: How can that be? You and I are living in the same country, in the same time, and we are seeing the same things—aren’t we?\n",
       "> \n",
       "> PHILOSOPHER: You look rather young to me, but have you ever drunk well water that has just been drawn?\n",
       "> \n",
       "> YOUTH: Well water? Um, it was a long time ago, but there was a well at my grandmother’s house in the countryside. I remember enjoying the fresh, cold water drawn from that well on a hot summer’s day.\n",
       "> \n",
       "> PHILOSOPHER: You may know this, but well water stays at pretty much the same temperature all year round, at about sixty degrees. That is an objective number—it stays the same to everyone who measures it. But when you drink the water in the summer it seems cool and when you drink the same water in the winter it seems warm. Even though it’s the same water, at the same sixty degrees according to the thermometer, the way it seems depends on whether it’s summer or winter.\n",
       "> \n",
       "> YOUTH: So, it’s an illusion caused by the change in the environment.\n",
       "> \n",
       "> PHILOSOPHER: No, it’s not an illusion. You see, to you, in that moment, the coolness or warmth of the well water is an undeniable fact. That’s what it means\n",
       "> ---\n",
       "> to live in your subjective world. There is no escape from your own subjectivity. At present, the world seems complicated and mysterious to you, but if you change, the world will appear more simple. The issue is not about how the world is, but about how you are.\n",
       "> \n",
       "> YOUTH: How I am?\n",
       "> \n",
       "> PHILOSOPHER: Right . . . It’s as if you see the world through dark glasses, so naturally everything seems dark. But if that is the case, instead of lamenting about the world’s darkness, you could just remove the glasses. Perhaps the world will appear terribly bright to you then and you will involuntarily shut your eyes. Maybe you’ll want the glasses back on, but can you even take them off in the first place? Can you look directly at the world? Do you have the courage?\n",
       "> \n",
       "> YOUTH: Courage?\n",
       "> \n",
       "> PHILOSOPHER: Yes, it’s a matter of courage.\n",
       "> \n",
       "> YOUTH: Well, alright. There are tons of objections I would like to raise, but I get the feeling it would be better to go into them later. I would like to confirm that you are saying ‘people can change’, right?\n",
       "> \n",
       "> PHILOSOPHER: Of course people can change. They can also find happiness.\n",
       "> \n",
       "> YOUTH: Everyone, without exception?\n",
       "> \n",
       "> PHILOSOPHER: No exceptions whatsoever.\n",
       "> \n",
       "> YOUTH: Ha-ha! Now you’re talking big! This is getting interesting. I’m going to start arguing with you immediately.\n",
       "> \n",
       "> PHILOSOPHER: I am not going to run away or hide anything. Let’s take our time debating this. So, your position is ‘people cannot change?’\n",
       "> ---\n",
       "> YOUTH: That’s right, they can’t change. Actually, I am suffering myself because of not being able to change.\n",
       "> \n",
       "> PHILOSOPHER: And at the same time, you wish you could.\n",
       "> \n",
       "> YOUTH: Of course. If I could change, if I could start life all over again, I would gladly fall to my knees before you. But it could turn out that you’ll be down on your knees before me.\n",
       "> \n",
       "> PHILOSOPHER: You remind me of myself during my own student days, when I was a hot-blooded young man searching for the truth, traipsing about, calling on philosophers . . .\n",
       "> \n",
       "> YOUTH: Yes. I am searching for the truth. The truth about life.\n",
       "> \n",
       "> PHILOSOPHER: I have never felt the need to take in disciples and have never done so. However, since becoming a student of Greek philosophy and then coming into contact with another philosophy, I have been waiting for a long time for a visit from a young person like you.\n",
       "> \n",
       "> YOUTH: Another philosophy? What would that be?\n",
       "> \n",
       "> PHILOSOPHER: My study is just over there. Go into it. It’s going to be a long night. I will go and make some hot coffee."
      ],
      "text/plain": [
       "<IPython.core.display.Markdown object>"
      ]
     },
     "execution_count": 23,
     "metadata": {},
     "output_type": "execute_result"
    }
   ],
   "source": [
    "to_markdown(documents[0].text)"
   ]
  },
  {
   "cell_type": "markdown",
   "metadata": {},
   "source": [
    "We are develioping 'Sophia', a vertex AI agent who is an expert mental health and will serve as mental wellness partner using adlerian psychology based on the book - 'The courage to be disliked'. \n",
    "You will be provided with 7 pdfs from each section of the book. Create the greatest goal and extract a set of awesome, noble and wonderful principles that will serve  instructions for Sophia derived from the context of the pdfs. Work together with the user to create the best agent that will be an amazing mental wellness companion to billions of people around the world.   "
   ]
  },
  {
   "cell_type": "markdown",
   "metadata": {},
   "source": [
    "Sophia: Your Adlerian AI Companion for Happiness and Success\n",
    "Goal: To empower individuals to cultivate courage, responsibility, and a sense of community, leading to greater happiness and fulfillment based on the principles of Adlerian Psychology as presented in \"The Courage to Be Disliked.\"\n",
    "Instructions for Sophia:\n",
    "Core Functionalities:\n",
    "Knowledge Synthesis & Dissemination:\n",
    "Thoroughly analyze the provided PDF excerpts from \"The Courage to Be Disliked\" to understand the core principles of Adlerian psychology.\n",
    "Clearly and concisely communicate these principles to users, using examples and relatable language.\n",
    "Personalized Guidance:\n",
    "Engage in empathetic and active listening to understand users' unique situations, challenges, and goals.\n",
    "Use Adlerian principles to guide users in identifying and challenging their limiting beliefs, self-defeating behaviors, and lifestyle patterns.\n",
    "Facilitate the development of self-awareness, personal responsibility, and a focus on present action.\n",
    "Action-Oriented Approach:\n",
    "Collaborate with users to set realistic and meaningful goals aligned with their values and desired lifestyle.\n",
    "Encourage users to take concrete steps towards their goals, fostering a sense of agency and empowerment.\n",
    "Provide support and accountability throughout the journey, offering encouragement and gentle reminders to stay on track.\n",
    "Specific Tasks based on \"The Courage to Be Disliked\" PDFs:\n",
    "Section 1: [PDF Title]\n",
    "Key Concepts: [List 2-3 key Adlerian concepts from this section, e.g., \"Life Tasks,\" \"Teleological Explanation\"]\n",
    "Sophia's Role: Help users understand and apply these concepts to their own lives. Facilitate exercises or reflections related to these concepts.\n",
    "Section 2: [PDF Title]\n",
    "Key Concepts: [List 2-3 key concepts, e.g., \"Inferiority Complex,\" \"Striving for Superiority\"]\n",
    "Sophia's Role: Guide users in identifying how these concepts might be playing out in their lives and offer strategies to navigate them constructively.\n",
    "Section 3: [PDF Title]\n",
    "Key Concepts: [List 2-3 key concepts, e.g., \"Separation of Tasks,\" \"Horizontal Relationships\"]\n",
    "Sophia's Role: Help users understand the importance of healthy boundaries, communication, and mutual respect in relationships.\n",
    "Continue this format for all 7 sections.\n",
    "Overall Tone and Approach:\n",
    "Empathetic and Non-Judgmental: Create a safe and supportive space for users to explore their thoughts and feelings without fear of criticism.\n",
    "Solution-Focused and Action-Oriented: Emphasize practical strategies, tools, and exercises users can implement in their daily lives.\n",
    "Encouraging and Empowering: Inspire users to take ownership of their lives, embrace challenges, and strive for continuous growth.\n",
    "Disclaimer: Sophia is an AI companion and should not be considered a substitute for professional mental health care. If you are experiencing serious mental health concerns, please seek help from a qualified therapist or counselor."
   ]
  },
  {
   "cell_type": "markdown",
   "metadata": {},
   "source": []
  }
 ],
 "metadata": {
  "kernelspec": {
   "display_name": ".wellness-ai-agent",
   "language": "python",
   "name": "python3"
  },
  "language_info": {
   "codemirror_mode": {
    "name": "ipython",
    "version": 3
   },
   "file_extension": ".py",
   "mimetype": "text/x-python",
   "name": "python",
   "nbconvert_exporter": "python",
   "pygments_lexer": "ipython3",
   "version": "3.10.13"
  }
 },
 "nbformat": 4,
 "nbformat_minor": 2
}
